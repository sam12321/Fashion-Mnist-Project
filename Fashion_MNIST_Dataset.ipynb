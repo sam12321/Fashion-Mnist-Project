{
 "cells": [
  {
   "cell_type": "markdown",
   "metadata": {},
   "source": [
    "#  FASHION_MNIST  DATASET"
   ]
  },
  {
   "cell_type": "code",
   "execution_count": 240,
   "metadata": {},
   "outputs": [],
   "source": [
    "# THE MAIN GOAL OF THIS PROJECT IS TO CREATE A NEURAL NETWORK MODEL TO SUCCESSFULY PREDICT THE FASHION ITEM FROM THE GIVEN IMAGES"
   ]
  },
  {
   "cell_type": "code",
   "execution_count": 225,
   "metadata": {},
   "outputs": [],
   "source": [
    "# IMPORTING LIBRARIES\n",
    "import numpy as np\n",
    "import pandas as pd\n",
    "import matplotlib.pyplot as  plt\n",
    "import seaborn as sns"
   ]
  },
  {
   "cell_type": "code",
   "execution_count": 226,
   "metadata": {},
   "outputs": [],
   "source": [
    "import tensorflow as tf     # ACTS AS A BACKEND FOR KERAS\n",
    "import keras as kr    # IMPORTING KERAS FOR CREATION OF NEURAL NETWORKS"
   ]
  },
  {
   "cell_type": "code",
   "execution_count": 227,
   "metadata": {},
   "outputs": [],
   "source": [
    "# IMPORTING DATASET AND SPLITTING IT INTO TRAIN TEST ARRAYS\n",
    "(train_x,train_y),(test_x,test_y)=kr.datasets.fashion_mnist.load_data()"
   ]
  },
  {
   "cell_type": "code",
   "execution_count": 228,
   "metadata": {},
   "outputs": [
    {
     "data": {
      "text/plain": [
       "9"
      ]
     },
     "execution_count": 228,
     "metadata": {},
     "output_type": "execute_result"
    },
    {
     "data": {
      "image/png": "[encoded data removed]",
      "text/plain": [
       "<Figure size 432x288 with 1 Axes>"
      ]
     },
     "metadata": {
      "needs_background": "light"
     },
     "output_type": "display_data"
    }
   ],
   "source": [
    "# HERE'S A SAMMPLE OF AN IMAGE ALONG WITH IT'S EXPECTED RESULT\n",
    "plt.imshow(train_x[0])\n",
    "train_y[0]"
   ]
  },
  {
   "cell_type": "code",
   "execution_count": 229,
   "metadata": {},
   "outputs": [
    {
     "name": "stdout",
     "output_type": "stream",
     "text": [
      "shape of training features: (60000, 28, 28)\n",
      "shape of training target: (60000,)\n"
     ]
    }
   ],
   "source": [
    "# ANALYZING SHAPE OF TRAINING DATA\n",
    "print('shape of training features:',train_x.shape)\n",
    "print('shape of training target:',train_y.shape)"
   ]
  },
  {
   "cell_type": "code",
   "execution_count": 230,
   "metadata": {},
   "outputs": [
    {
     "name": "stdout",
     "output_type": "stream",
     "text": [
      "shape of training features: (10000, 28, 28)\n",
      "shape of training target: (10000,)\n"
     ]
    }
   ],
   "source": [
    "# ANALYZING SHAPE OF TESTING DATA\n",
    "print('shape of training features:',test_x.shape)\n",
    "print('shape of training target:',test_y.shape)"
   ]
  },
  {
   "cell_type": "code",
   "execution_count": 231,
   "metadata": {},
   "outputs": [],
   "source": [
    "# RESHAPING FEATURES \n",
    "train_x=train_x.reshape(60000,784)\n",
    "test_x=test_x.reshape(10000,784)\n",
    "train_x=kr.utils.normalize(train_x)\n",
    "test_x=kr.utils.normalize(test_x)"
   ]
  },
  {
   "cell_type": "code",
   "execution_count": 232,
   "metadata": {},
   "outputs": [
    {
     "data": {
      "text/plain": [
       "array([0., 0., 0., 0., 0., 0., 0., 0., 0., 1.], dtype=float32)"
      ]
     },
     "execution_count": 232,
     "metadata": {},
     "output_type": "execute_result"
    }
   ],
   "source": [
    "# CHANGING THE FORM OF TARGET VALUES TO CATEGORICAL i.e( 09 = 0., 0., 0., 0., 0., 0., 0., 0., 0., 1.)\n",
    "ytrain=kr.utils.to_categorical(train_y)\n",
    "ytest\n",
    "ytrain[0]"
   ]
  },
  {
   "cell_type": "code",
   "execution_count": 233,
   "metadata": {},
   "outputs": [],
   "source": [
    "# CRAETING A NEURAL NETWORK\n",
    "model=kr.models.Sequential()"
   ]
  },
  {
   "cell_type": "code",
   "execution_count": 234,
   "metadata": {},
   "outputs": [],
   "source": [
    "# ADDING LAYERS TO OUR NEURAL NNETWORK\n",
    "model.add(kr.layers.Dense(512,activation='relu',input_shape=(784,)))\n",
    "model.add(kr.layers.Dense(512,activation='sigmoid'))\n",
    "model.add(kr.layers.Dense(256,activation='relu'))\n",
    "model.add(kr.layers.Dense(10,activation='softmax'))\n",
    "\n",
    "model.compile(optimizer = 'adam', loss = 'categorical_crossentropy', metrics = ['accuracy'])"
   ]
  },
  {
   "cell_type": "code",
   "execution_count": 235,
   "metadata": {},
   "outputs": [
    {
     "name": "stdout",
     "output_type": "stream",
     "text": [
      "Epoch 1/12\n",
      "60000/60000 [==============================] - 9s 158us/step - loss: 0.6804 - accuracy: 0.7499\n",
      "Epoch 2/12\n",
      "60000/60000 [==============================] - 9s 153us/step - loss: 0.4267 - accuracy: 0.8455\n",
      "Epoch 3/12\n",
      "60000/60000 [==============================] - 9s 152us/step - loss: 0.3768 - accuracy: 0.8625\n",
      "Epoch 4/12\n",
      "60000/60000 [==============================] - 9s 152us/step - loss: 0.3481 - accuracy: 0.8733\n",
      "Epoch 5/12\n",
      "60000/60000 [==============================] - 9s 151us/step - loss: 0.3275 - accuracy: 0.8804\n",
      "Epoch 6/12\n",
      "60000/60000 [==============================] - 9s 152us/step - loss: 0.3068 - accuracy: 0.8873\n",
      "Epoch 7/12\n",
      "60000/60000 [==============================] - 9s 152us/step - loss: 0.2907 - accuracy: 0.8929\n",
      "Epoch 8/12\n",
      "60000/60000 [==============================] - 9s 152us/step - loss: 0.2839 - accuracy: 0.8947\n",
      "Epoch 9/12\n",
      "60000/60000 [==============================] - 9s 154us/step - loss: 0.2709 - accuracy: 0.8996\n",
      "Epoch 10/12\n",
      "60000/60000 [==============================] - 9s 156us/step - loss: 0.2570 - accuracy: 0.9042\n",
      "Epoch 11/12\n",
      "60000/60000 [==============================] - 9s 153us/step - loss: 0.2495 - accuracy: 0.9070\n",
      "Epoch 12/12\n",
      "60000/60000 [==============================] - 9s 157us/step - loss: 0.2427 - accuracy: 0.9093\n"
     ]
    },
    {
     "data": {
      "text/plain": [
       "<keras.callbacks.callbacks.History at 0x21fb0be52c8>"
      ]
     },
     "execution_count": 235,
     "metadata": {},
     "output_type": "execute_result"
    }
   ],
   "source": [
    "epochs=12\n",
    "batch_size=64\n",
    "model.fit(train_x,ytrain,epochs=epochs,batch_size=batch_size)"
   ]
  },
  {
   "cell_type": "code",
   "execution_count": 236,
   "metadata": {
    "scrolled": false
   },
   "outputs": [
    {
     "data": {
      "text/plain": [
       "array([[3.77109814e-06, 1.96011679e-05, 1.05756094e-07, 3.32407296e-07,\n",
       "        4.01704892e-09, 7.83656142e-04, 7.82735469e-07, 8.50944035e-03,\n",
       "        3.12659893e-07, 9.90682006e-01],\n",
       "       [8.90099443e-04, 7.68379095e-07, 9.62294936e-01, 3.50127848e-05,\n",
       "        6.60966989e-03, 4.69640963e-06, 3.01496219e-02, 3.42694040e-10,\n",
       "        1.53000074e-05, 4.61013583e-09],\n",
       "       [1.87521698e-06, 9.99987125e-01, 1.18127437e-08, 2.22836661e-06,\n",
       "        1.00860532e-07, 9.30906519e-10, 8.30539648e-06, 2.70367650e-07,\n",
       "        3.39230488e-09, 3.67008379e-09],\n",
       "       [1.89186622e-07, 9.99990344e-01, 2.71837797e-09, 5.38721360e-06,\n",
       "        4.75033772e-08, 1.63798974e-10, 4.10906023e-06, 1.04316449e-08,\n",
       "        5.43087963e-10, 6.49930387e-10],\n",
       "       [1.11067586e-01, 1.36932322e-05, 2.28863750e-02, 3.42362351e-03,\n",
       "        2.61318614e-03, 2.83715451e-07, 8.59203815e-01, 2.43129183e-09,\n",
       "        7.91200844e-04, 1.62421912e-07]], dtype=float32)"
      ]
     },
     "execution_count": 236,
     "metadata": {},
     "output_type": "execute_result"
    }
   ],
   "source": [
    "pred_values=model.predict(test_x)\n",
    "pred_values[:5]"
   ]
  },
  {
   "cell_type": "code",
   "execution_count": 237,
   "metadata": {},
   "outputs": [
    {
     "name": "stdout",
     "output_type": "stream",
     "text": [
      "10000/10000 [==============================] - 1s 97us/step\n"
     ]
    },
    {
     "data": {
      "text/plain": [
       "[0.3215261508822441, 0.8834999799728394]"
      ]
     },
     "execution_count": 237,
     "metadata": {},
     "output_type": "execute_result"
    }
   ],
   "source": [
    "# EVALUATING OUR MODEL WITH TEST VALUES\n",
    "ytest=kr.utils.to_categorical(test_y)\n",
    "model.evaluate(test_x,ytest)"
   ]
  },
  {
   "cell_type": "code",
   "execution_count": 238,
   "metadata": {},
   "outputs": [],
   "source": [
    "# CONVERTING OUTPUT INTO INTEGER VALUES\n",
    "pred=[]\n",
    "for i in range(len(pred_values)):\n",
    "    pred.append(np.where(pred_values[i]==np.amax(pred_values[i]))[0][0])  # GETS THE PREDICTED VALUE FROM PRED_VALUES ARRAY\n",
    "pred=np.array(pred)"
   ]
  },
  {
   "cell_type": "code",
   "execution_count": 239,
   "metadata": {},
   "outputs": [
    {
     "data": {
      "text/plain": [
       "(array([False,  True]), array([1165, 8835], dtype=int64))"
      ]
     },
     "execution_count": 239,
     "metadata": {},
     "output_type": "execute_result"
    }
   ],
   "source": [
    "# FINDING HOW MANY VALUES HAVE BEEN PREDICTED CORRECTLY\n",
    "np.unique(pred==test_y,return_counts=True)"
   ]
  },
  {
   "cell_type": "markdown",
   "metadata": {},
   "source": [
    "as you can see we were able to correctly predict more than 88% of fashion items"
   ]
  }
 ],
 "metadata": {
  "kernelspec": {
   "display_name": "Python 3",
   "language": "python",
   "name": "python3"
  },
  "language_info": {
   "codemirror_mode": {
    "name": "ipython",
    "version": 3
   },
   "file_extension": ".py",
   "mimetype": "text/x-python",
   "name": "python",
   "nbconvert_exporter": "python",
   "pygments_lexer": "ipython3",
   "version": "3.7.6"
  }
 },
 "nbformat": 4,
 "nbformat_minor": 4
}
